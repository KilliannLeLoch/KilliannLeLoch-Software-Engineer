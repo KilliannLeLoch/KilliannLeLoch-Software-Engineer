{
 "cells": [
  {
   "cell_type": "code",
   "execution_count": 1,
   "id": "8d9ba605",
   "metadata": {},
   "outputs": [],
   "source": [
    "import numpy as np\n",
    "import matplotlib.pyplot as plt"
   ]
  },
  {
   "cell_type": "markdown",
   "id": "a48f3d28",
   "metadata": {},
   "source": [
    "Nous verrons ici les examples et comment commencer à coder de la modélisation physique"
   ]
  },
  {
   "cell_type": "markdown",
   "id": "06f55a89",
   "metadata": {},
   "source": [
    "# Méthode de modélisation d'équations différentielles d'ordre 2\n",
    "\n",
    "## Exemples de différences finis"
   ]
  },
  {
   "cell_type": "markdown",
   "id": "43a93b39",
   "metadata": {},
   "source": [
    "### 1. Action de la gravité sur un fluide borotropique au repos\n",
    "\n",
    "sur un fluide au repos nous pouvons le modéliser par : \n",
    "$$\n",
    "\\rho \\vec{f} = \\vec{\\nabla}P \n",
    "$$\n",
    "\n",
    "Un fluide borotropique est caractérisé par une fonction h tel que : \n",
    "$$\n",
    "h(\\rho) = P\n",
    "$$\n",
    "Donc, nous pouvons écrire : \n",
    "$$\n",
    "\\rho \\vec{f} = \\vec{\\nabla}(h(\\rho)) = \\vec{\\nabla}(\\rho)h'(\\rho)\n",
    "$$\n",
    "\n",
    "D'un autre côté nous avons $\\vec{f}$, la force de gravité unidirectionnelle qui s'écrit $g\\vec{e}_z$. Nous pouvons donc conclure que $\\rho$ ne s'applique que dans une seule direction (z) que nous pouvons écrire : \n",
    "$$\n",
    "\\rho(z) g = \\rho'(z) h'(\\rho(z)) = \\partial_z h(\\rho(z))\n",
    "$$\n",
    "\n",
    "L'intuition nous dit que la masse volumique va se consentrer en bas. Nous allons donc faire une méthode descendante en z avec un pas d'espace $\\Delta z$: \n",
    "$$\n",
    "\\rho_ig = \\frac{h(\\rho_{i}) - h(\\rho_{i-1})}{\\Delta z}\n",
    "$$\n",
    "\n",
    "Nous avons donc la méthode (en décalant les points d'un cran): \n",
    "$$\n",
    "h(\\rho_i) = g\\Delta z (h(\\rho_{i+1})-\\rho_{i+1})\n",
    "$$\n",
    "\n",
    "Nous pouvons faire une approximation linéaire entre i et i+1 ($h(x) \\approx h_ax + C$). Nous appelerons $h_i = h(\\rho_{i+1})$ et C la constante à i+1:\n",
    "\n",
    "$$\n",
    "\\rho_i = \\frac{g\\Delta z [(h_{i+1}-1)\\rho_{i+1} + C]-C}{h_{i+1}}\n",
    "$$\n",
    "\n",
    "\n",
    "Prenons comme example $h(x) = x^2$ (so $h(x_i) \\approx 2x_ax - x_a^2$). Avec $\\rho_0 = 1.001$. Nous avons : \n",
    "$$\n",
    "\\rho_i = \\frac{g\\Delta z [(2\\rho_{i+1}-1)\\rho_{i+1} - \\rho_{i+1}^2] + \\rho_{i+1}^2}{2\\rho_{i+1}} = 0.5g\\Delta z(\\rho_{i+1}-1) + 0.5\\rho_{i+1}\n",
    "$$"
   ]
  },
  {
   "cell_type": "code",
   "execution_count": 2,
   "id": "3f74f771",
   "metadata": {},
   "outputs": [
    {
     "data": {
      "image/png": "[encoded data removed]",
      "text/plain": [
       "<Figure size 640x480 with 1 Axes>"
      ]
     },
     "metadata": {},
     "output_type": "display_data"
    }
   ],
   "source": [
    "g = 9.81\n",
    "dzm = 20\n",
    "l = 1\n",
    "dz = l/dzm\n",
    "z = np.linspace(0, l, dzm)\n",
    "rho = np.zeros(len(z))\n",
    "rho[-1] = 10\n",
    "\n",
    "for i in range(len(z)-1) :\n",
    "    rho[-i-2] = 0.5*g*dz*(rho[-i-1] - 1) + 0.5*rho[-i-1]\n",
    "\n",
    "plt.plot(z,rho)\n",
    "plt.xlabel(\"z\")\n",
    "plt.ylabel(\"Density\")\n",
    "plt.title(\"Distribution of density\")\n",
    "plt.show()"
   ]
  },
  {
   "cell_type": "markdown",
   "id": "3162d294",
   "metadata": {},
   "source": [
    "Nous pouvons faire une généralisation"
   ]
  },
  {
   "cell_type": "code",
   "execution_count": 3,
   "id": "9f54d2c1",
   "metadata": {},
   "outputs": [],
   "source": [
    "def f(a) :\n",
    "    return (2*a,-a**2)\n"
   ]
  },
  {
   "cell_type": "code",
   "execution_count": null,
   "id": "4355d582",
   "metadata": {},
   "outputs": [],
   "source": [
    "def borotrop() :\n",
    "    g = 9.81\n",
    "    dzm = 20\n",
    "    l = 1\n",
    "    dz = l/dzm\n",
    "    z = np.linspace(0, l, dzm)\n",
    "    rho = np.zeros(len(z))\n",
    "    rho[-1] = 100\n",
    "\n",
    "    for i in range(len(z)-1) :\n",
    "        h = f(rho[-i-1])\n",
    "        rho[-i-2] = (g*dz*((h[0] - 1)*rho[-i-1] + h[1]) - h[1])/(h[0])\n",
    "\n",
    "    plt.plot(z,rho)\n",
    "    plt.xlabel(\"z\")\n",
    "    plt.ylabel(\"Density\")\n",
    "    plt.title(\"Distribution of density\")\n",
    "    plt.show()\n",
    "    \n",
    "borotrop()"
   ]
  },
  {
   "cell_type": "markdown",
   "id": "86981e98",
   "metadata": {},
   "source": [
    "Dans un gaz diatomique $P = \\alpha\\rho^{7/5}$ (définissons $\\alpha = 5/7$): "
   ]
  },
  {
   "cell_type": "code",
   "execution_count": null,
   "id": "3e7bff49",
   "metadata": {},
   "outputs": [],
   "source": [
    "def f(a) :\n",
    "    return (np.abs(a)**(2/5),-2*np.abs(a)**(7/5)/7)\n",
    "\n",
    "borotrop()"
   ]
  },
  {
   "cell_type": "markdown",
   "id": "d2d51a18",
   "metadata": {},
   "source": [
    "### 2. Circulation d'un fluide en 2 dimentions\n",
    "\n",
    "Prenons un fluide en Deux dimentions suivant :\n",
    "$$\n",
    "\\vec{u} = \\frac{-Ay\\vec{e}_x + Ax\\vec{e}_y}{x^2 + y^2}\n",
    "$$\n",
    "\n",
    "Avec A réel\n",
    "\n",
    "Nous pouvons dans un premier temps modéliser le fluide : "
   ]
  },
  {
   "cell_type": "code",
   "execution_count": null,
   "id": "d3201eec",
   "metadata": {},
   "outputs": [],
   "source": [
    "def velocity_field(x, y, A):\n",
    "    denom = x**2 + y**2\n",
    "    u_x = (-A* y) / denom\n",
    "    u_y = (A * x) / denom\n",
    "    return u_x, u_y\n",
    "\n",
    "# Grid for plotting\n",
    "x, y = np.meshgrid(np.linspace(-2, 2, 20), np.linspace(-2, 2, 20))\n",
    "# Avoid division by zero at the origin\n",
    "x[x == 0] = 0.01\n",
    "y[y == 0] = 0.01\n",
    "\n",
    "# Parameters and cases\n",
    "cases = [\n",
    "    {\"A\": 1, \"label\": \"Vortex, counterclockwise\"},\n",
    "    {\"A\": -1, \"label\": \"Vortex, clockwise\"},\n",
    "]\n",
    "\n",
    "# Plotting\n",
    "fig, axes = plt.subplots(1, 2, figsize=(12, 6))\n",
    "for ax, case in zip(axes.flatten(), cases):\n",
    "    A = case[\"A\"]\n",
    "    u_x, u_y = velocity_field(x, y, A)\n",
    "    ax.quiver(x, y, u_x, u_y, color=\"blue\", pivot=\"middle\")\n",
    "    ax.set_title(f\"{case['label']} ($A={A}$)\")\n",
    "    ax.set_xlim([-2, 2])\n",
    "    ax.set_ylim([-2, 2])\n",
    "    ax.set_xlabel(\"x\")\n",
    "    ax.set_ylabel(\"y\")\n",
    "    ax.grid()\n",
    "\n",
    "plt.tight_layout()\n",
    "plt.show()"
   ]
  },
  {
   "cell_type": "markdown",
   "id": "1f983c9b",
   "metadata": {},
   "source": [
    "Nous pouvons aussi le remarqué en calculant le potentiel et la fonction de courant: \n",
    "\n",
    "$$\n",
    "\\partial_z W= u_x - iu_y = -\\frac{Ay}{R^2} - i\\frac{Ax}{R^2} = \\frac{-Ai\\bar{z}}{z\\bar{z}} = \\frac{-Ai}{z}\n",
    "$$\n",
    "Donc :  \n",
    "$$\n",
    "W = -Ai\\ln(z) + C\n",
    "$$\n",
    "Prenons $z = Re^{i\\theta}$\n",
    "$$\n",
    "W = -A\\left( i\\ln(R) - \\theta \\right) + C\n",
    "$$\n",
    "$$\n",
    "\\varphi = A\\theta + Real(C)\n",
    "$$\n",
    "\n",
    "Les lignes de courants font des lignes partant du centre. Nous pouvons conclure que le fluide circule de manière sphérique.\n",
    "\n",
    "Nous pouvons trouver la circulation à travers une fonction entre deux points en faisant : \n",
    "\n",
    "$$\n",
    "\\Gamma_C = Real\\left( \\int_C \\partial_z W dz \\right)\n",
    "$$\n",
    "\n",
    "Prenons l'hypothèse que n'importe quel chemin se caractérise par une succession de lignes. Calculons donc avec une ligne allant d'un point a à un point b (complexes): \n",
    "\n",
    "$$\n",
    "\\Gamma_{Ci} = Real\\left( \\int_{Ci} \\partial_z W dz \\right) = Real\\left( \\int_{a}^b \\frac{-Ai}{z} dz \\right) = Real\\left[ -A\\left( i\\ln(R) - \\theta \\right) \\right]_a^b = A\\theta_b - A\\theta_a\n",
    "$$\n",
    "Et le flux : \n",
    "$$\n",
    "Q_{Ci} = Im\\left( \\int_{Ci} \\partial_z W dz \\right) = A\\ln(R_a) - A\\ln(R_b)\n",
    "$$\n",
    "\n",
    "$$\n",
    "\\Gamma_c = \\sum_i \\Gamma_{Ci}\n",
    "$$\n",
    "$$\n",
    "Q_C = \\sum_i Q_{Ci}\n",
    "$$\n",
    "\n",
    "Nous pouvons calculer ça : "
   ]
  },
  {
   "cell_type": "code",
   "execution_count": null,
   "id": "db9483af",
   "metadata": {},
   "outputs": [],
   "source": [
    "def circ(x,y,A) : \n",
    "    Gamm = 0\n",
    "    Q = 0\n",
    "\n",
    "    for i in range(len(x) - 1):\n",
    "        # Calcul de Gamma_i\n",
    "        theta_i = (np.arctan2(y[i], x[i]))\n",
    "        theta_i_next = np.arctan2(y[i + 1], x[i + 1])\n",
    "        Gammi = A * (theta_i_next - theta_i)\n",
    "        Gamm += Gammi\n",
    "\n",
    "        # Calcul de Q_i\n",
    "        r_i = np.sqrt(x[i]**2 + y[i]**2)\n",
    "        r_i_next = np.sqrt(x[i + 1]**2 + y[i + 1]**2)\n",
    "        Qi = A * (np.log(r_i) - np.log(r_i_next))\n",
    "        Q += Qi\n",
    "        \n",
    "    return (Gamm,Q)\n",
    "\n",
    "A = 1\n",
    "x = [0.5,1,1,0.5,0.5]\n",
    "y = [-1, -1, 1, 1,-1]\n",
    "plt.plot(x,y)\n",
    "circ(x,y,A)"
   ]
  },
  {
   "cell_type": "markdown",
   "id": "ac806508",
   "metadata": {},
   "source": [
    "Ce que l'on attend d'un trajet polygonale. Nous pouvons aussi le faire pour un petit mur : "
   ]
  },
  {
   "cell_type": "code",
   "execution_count": null,
   "id": "ef6e1007",
   "metadata": {},
   "outputs": [],
   "source": [
    "A = 1\n",
    "x1 = [0.5,1]\n",
    "y1 = [-1, 1]\n",
    "\n",
    "C_1 = circ(x1,y1,A)\n",
    "\n",
    "x2 = [0.5,1]\n",
    "y2 = [-1, -3]\n",
    "\n",
    "C_2 = circ(x2,y2,A)\n",
    "\n",
    "fig, axes = plt.subplots(1, 2, figsize=(12, 6))\n",
    "\n",
    "# Plot Gamma (C_1) on the first subplot\n",
    "axes[0].plot([0, 1], [C_1[0], C_2[0]], label=r'$\\Gamma$', color='b')\n",
    "axes[0].set_title(r'$\\Gamma$')\n",
    "axes[0].set_xlim([0, 1])\n",
    "axes[0].set_xlabel('Path')\n",
    "axes[0].set_ylabel(r'$\\Gamma$')\n",
    "axes[0].legend()\n",
    "\n",
    "# Plot Q (C_2) on the second subplot\n",
    "axes[1].plot([0, 1], [C_1[1], C_2[1]], label=r'$Q$', color='r')\n",
    "axes[1].set_title(r'$Q$')\n",
    "axes[1].set_xlim([0, 1])\n",
    "axes[1].set_xlabel('Path')\n",
    "axes[1].set_ylabel(r'$Q$')\n",
    "axes[1].legend()\n",
    "\n",
    "# Show the plots\n",
    "plt.tight_layout()\n",
    "plt.show()"
   ]
  },
  {
   "cell_type": "markdown",
   "id": "deb58f69",
   "metadata": {},
   "source": [
    "Nous pouvons voir dans cette example le changement si on change le second point de la ligne"
   ]
  },
  {
   "cell_type": "markdown",
   "id": "ee3c62ef",
   "metadata": {},
   "source": [
    "### 3. Calcul de l'énergie d'une particule dans une boite. \n",
    "\n",
    "Une particule libre suit l'équation de Schrodinger quand celle ci est égal à 0 : \n",
    "$$\n",
    "-\\frac{\\hbar^2}{2m}\\partial^2_x\\Psi = \\hat{H}\\Psi = E\\Psi\n",
    "$$\n",
    "\n",
    "Cette équation est respectée tant que la particule reste dans la boite de longueur L.\n",
    "$$\n",
    "\\partial^2_x\\Psi = \\frac{\\Psi_{i+1} - 2\\Psi_i + \\Psi_{i-1}}{\\Delta x^2}\n",
    "$$\n",
    "\n",
    "Nous pouvons donc faire une matrice A bidiagonale avec en sa diagonale $\\frac{\\hbar^2}{m\\Delta x^2} - E$ et les surdiagonales $-\\frac{\\hbar^2}{2m\\Delta x^2}$ tel que $A\\Psi = 0$ (avec $Psi$ la matrice des $\\Psi_i$). \n",
    "\n",
    "Nous avons les conditions aux limites $\\Psi(x) = 0$. Ce qui ne change pas la matrice. Ce que l'on veut, c'est connaître les valeurs plosibles de E. Nous allons donc trouver quand le déterminant de A est 0 : "
   ]
  },
  {
   "cell_type": "code",
   "execution_count": null,
   "id": "ece165ac",
   "metadata": {},
   "outputs": [],
   "source": [
    "def matA(L, E, Dx, m):\n",
    "    h = 1\n",
    "    A = np.zeros((L, L))\n",
    "    for i in range(L):\n",
    "        A[i][i] = h**2 / (m * Dx) - E\n",
    "    A[0][1] = -h**2 / (2 * m * Dx)\n",
    "    A[-1][-2] = -h**2 / (2 * m * Dx)\n",
    "    for i in range(L - 1):\n",
    "        A[i][i + 1] = -h**2 / (2 * m * Dx)\n",
    "        A[i + 1][i] = -h**2 / (2 * m * Dx)\n",
    "    return A\n",
    "\n",
    "\n",
    "L = 100\n",
    "Dx = 1 / L\n",
    "m = 1\n",
    "E = np.linspace(0, 10, 1000)  \n",
    "d = np.zeros(len(E))          \n",
    "\n",
    "\n",
    "for i in range(len(E)):\n",
    "    A = matA(L, E[i], Dx, m)\n",
    "    d[i] = np.linalg.det(A)\n",
    "\n",
    "\n",
    "zero_crossings = []\n",
    "for i in range(len(d) - 1):\n",
    "    if d[i] * d[i + 1] < 0:  \n",
    "        root = E[i] - (d[i] * (E[i + 1] - E[i]) / (d[i + 1] - d[i]))\n",
    "        zero_crossings.append(root)\n",
    "\n",
    "\n",
    "plt.plot(E, d, label=\"Determinant\")\n",
    "plt.axhline(0, color='red', linestyle='--', label=\"y = 0\")  # Horizontal line at y=0\n",
    "plt.scatter(zero_crossings, [0] * len(zero_crossings), color='green', label=\"Valeurs de E\")\n",
    "plt.xlabel(\"E (en unité $\\hbar$)\")\n",
    "plt.ylabel(\"Determinant\")\n",
    "plt.title(\"Détermination des valeurs de E\")\n",
    "plt.legend()\n",
    "plt.show()\n",
    "\n",
    "\n",
    "print(\"Valeurs de E possible:\", zero_crossings)"
   ]
  },
  {
   "cell_type": "markdown",
   "id": "aa57b0e3",
   "metadata": {},
   "source": [
    "Nous voyons que E peut prendre des valeurs très précises en fonction de la périodicité de la fonction. Normalement, celui-ci doit prendre une forme $\\alpha n^2$. Cherchons le $\\alpha$. Nous pouvons déjà trouver n (le début n'est pas forcément 1). Puis avoir alpha. La variance de alpha nous permettra d'estimer une erreur (nous allons enlever le point 0 qui est victime d'une erreur plus grosse. Nous pouvons à postériori changer le graph en fonction) : "
   ]
  },
  {
   "cell_type": "code",
   "execution_count": null,
   "id": "91b53302",
   "metadata": {},
   "outputs": [],
   "source": [
    "n = np.zeros(len(zero_crossings) - 1)\n",
    "alph = np.zeros(len(zero_crossings) - 1)\n",
    "ncorr = np.zeros(len(zero_crossings) - 1)\n",
    "\n",
    "for i in range(len(zero_crossings) - 1) :\n",
    "    u = zero_crossings[i+1]/zero_crossings[i]\n",
    "    n[i] = 1/(np.sqrt(u) - 1)\n",
    "    n[i] = n[i] - n[0] + 1\n",
    "    \n",
    "    ncorr[i] = i\n",
    "    \n",
    "    alph[i] = zero_crossings[i+1]/((i+2)**2)\n",
    "    \n",
    "plt.scatter(ncorr,alph, color='green', label=\"Valeurs de alpha\")\n",
    "plt.xlabel(\"n\")\n",
    "plt.ylabel(\"alpha\")\n",
    "plt.title(\"Détermination de la valeur alpha\")\n",
    "plt.legend()\n",
    "plt.show()\n",
    "\n",
    "n"
   ]
  },
  {
   "cell_type": "markdown",
   "id": "21a01c0d",
   "metadata": {},
   "source": [
    "### 4. Oscillateur harmonique \n",
    "\n",
    "Prenons V = 0.5m\\omega^2x^2. Donc nous avons la même matrice A mais cette fois-ci nous devons résoudre $A\\Psi - V\\Psi = 0$ avec $V_i = 0.5m\\omega^2x_i^2$. Pour implenter ceci nous devons inverser la matrice A. Nous ferons alors : \n",
    "\n"
   ]
  },
  {
   "cell_type": "code",
   "execution_count": null,
   "id": "0d2068fa",
   "metadata": {},
   "outputs": [],
   "source": [
    "E = np.linspace(1,10,1000)\n",
    "def matOsc(L, E, Dx, m,om):\n",
    "    A = matA(L, E, Dx, m)\n",
    "    \n",
    "    for i in range(L):\n",
    "        A[i][i] = A[i][i] + 0.5*m*om**2*(i-0.5*L)**2\n",
    "        \n",
    "    return A\n",
    "\n",
    "L = 100\n",
    "om = 0.25\n",
    "Dx = 1 / L\n",
    "m = 1\n",
    "E = np.linspace(0, 25, 1000)  \n",
    "d = np.zeros(len(E))          \n",
    "\n",
    "\n",
    "for i in range(len(E)):\n",
    "    A = matOsc(L, E[i], Dx, m,om)\n",
    "    d[i] = np.linalg.det(A)\n",
    "\n",
    "\n",
    "zero_crossings = []\n",
    "for i in range(len(d) - 1):\n",
    "    if d[i] * d[i + 1] < 0:  \n",
    "        root = E[i] - (d[i] * (E[i + 1] - E[i]) / (d[i + 1] - d[i]))\n",
    "        zero_crossings.append(root)\n",
    "\n",
    "\n",
    "plt.plot(E, d, label=\"Determinant\")\n",
    "plt.axhline(0, color='red', linestyle='--', label=\"y = 0\")  # Horizontal line at y=0\n",
    "plt.scatter(zero_crossings, [0] * len(zero_crossings), color='green', label=\"Valeurs de E\")\n",
    "plt.xlabel(\"E (en unité $\\hbar$)\")\n",
    "plt.ylabel(\"Determinant\")\n",
    "plt.title(\"Détermination des valeurs de E\")\n",
    "plt.legend()\n",
    "plt.show()\n",
    "\n",
    "\n",
    "print(\"Valeurs de E possible:\", zero_crossings)"
   ]
  },
  {
   "cell_type": "markdown",
   "id": "f15149ca",
   "metadata": {},
   "source": [
    "Ici E doit suivre un paterne linéaire $\\alpha(n+0.5)$. Vérifions si c'est le cas. Si $u = \\frac{E_{i+1}}{E_{i}}$. Alors $n = \\frac{1.5 - 0.5u}{u-1}$"
   ]
  },
  {
   "cell_type": "code",
   "execution_count": null,
   "id": "47a0ad2d",
   "metadata": {},
   "outputs": [],
   "source": [
    "alpha = np.zeros(len(zero_crossings)-1)\n",
    "ncorr = np.zeros(len(zero_crossings)-1) \n",
    "n = np.zeros(len(zero_crossings)-1) \n",
    "for i in range(len(zero_crossings)-1) :\n",
    "    alpha[i] = zero_crossings[i+1]/(i+1.5)\n",
    "    u = zero_crossings[i+1]/zero_crossings[i]\n",
    "    n[i] = (1.5-0.5*u)/(u-1)\n",
    "    ncorr[i] =i\n",
    "\n",
    "\n",
    "plt.scatter(ncorr,alpha, color='green', label=\"Valeurs de alpha\")\n",
    "plt.xlabel(\"n\")\n",
    "plt.ylabel(\"alpha\")\n",
    "plt.title(\"Détermination de la valeur alpha\")\n",
    "plt.legend()\n",
    "plt.show()\n",
    "n"
   ]
  },
  {
   "cell_type": "markdown",
   "id": "740dd496",
   "metadata": {},
   "source": [
    "### 5. Equation de Schrodinger dépendante du temps.\n",
    "\n",
    "Prenons une oscillateur harmonique dont on connait l'état initiale. Voyons comment celui-ci évolue en fonction du temps. Nous avons l'équation de Schrodinger : \n",
    "\n",
    "$$\n",
    "-\\frac{\\hbar^2}{2m}\\partial^2_x\\Psi + V\\Psi= i\\hbar \\partial_t\\Psi \n",
    "$$\n",
    "\n",
    "Ici, une fonction de Cauchy sera très difficile à trouver. Nous pouvons utiliser les techniques différences finis en ayant connaissance de la première fonction. La fonction de test sera une fonction linéaire. Nous allons retourné $|\\Psi|^2$ en trouvant : \n",
    "\n",
    "$$\n",
    "-\\frac{\\hbar^2}{2m}\\frac{\\Psi_{i-1,j} - 2\\Psi_{i,j} + \\Psi_{i+1,j}}{\\Delta x^2} + V_i\\Psi_{i,j}= i\\hbar \\frac{\\Psi_{i,j+1} - \\Psi_{i,j}}{\\Delta t}\n",
    "$$\n",
    "\n",
    "Nous pouvons séparer la partie réel de $\\Psi_{i,j+1}$: \n",
    "$$\n",
    "Re(\\Psi_{i,j+1}) = \\Psi_{i,j}\n",
    "$$\n",
    "Et la partie imaginaire : \n",
    "$$\n",
    "im(\\Psi_{i,j+1}) = \\frac{\\hbar\\Delta t}{2m}\\frac{\\Psi_{i-1,j} - 2\\Psi_{i,j} + \\Psi_{i+1,j}}{\\Delta x^2} - \\frac{V_i\\Delta t}{\\hbar}\\Psi_{i,j}\n",
    "$$\n",
    "Puis nous pouvons continuer avec la partie imaginaire de Psy (c'est à dire 4 différentes possibilités)\n",
    "\n",
    "\n",
    "Nous pouvons conclure :\n",
    "$$\n",
    "|\\Psi|^2 = Re(\\Psi_{i,j+1})^2 + im(\\Psi_{i,j+1})^2\n",
    "$$\n",
    "\n",
    "Nous savons que l'intégrale de $|\\Psi|^2$ doit être égale à 1. Nous ferons donc attention à multiplier à chaque fois par un coefficient pour conserver la propriétée. Cette intégrale sera faite à l'aide de la formule de Sympson"
   ]
  },
  {
   "cell_type": "code",
   "execution_count": null,
   "id": "5c176b4e",
   "metadata": {},
   "outputs": [],
   "source": [
    "L = 1\n",
    "dx = 0.001\n",
    "N = int(L/dx)\n",
    "omega = 1\n",
    "m = 1\n",
    "\n",
    "dt = 0.001\n",
    "T = 10\n",
    "\n",
    "X = np.zeros(N)\n",
    "\n",
    "for i in range(N) : \n",
    "    X[i] = i*dx\n",
    "\n",
    "Psi0 = np.full(N, 1/np.sqrt(L))\n",
    "Z = np.zeros(N)\n",
    "Psi0[0] = 0\n",
    "Psi0[-1] = 0\n",
    "Psi0[1] = 0\n",
    "Psi0[-2] = 0\n",
    "\n",
    "def schro(V,T,Psiim0,Psire0,m,dt,dx) :\n",
    "    h = 1\n",
    "    Psiim1 = Psiim0\n",
    "    Psire1 = Psire0\n",
    "    \n",
    "    Psiim2 = Psiim0\n",
    "    Psire2 = Psire0\n",
    "    \n",
    "    \n",
    "    \n",
    "    \n",
    "    chrono = 0\n",
    "    while (chrono < T) : \n",
    "        for i in range(N-2) : \n",
    "            Psire2[i+1] = Psire1[i+1]\n",
    "            Psire2[i+1] = Psire2[i+1] - h**2*dt*(Psiim1[i] - 2*Psiim1[i+1] + Psiim1[i+2])/(dx**2*2*m) + V[i+1]*dt*Psiim1[i+1]/h\n",
    "            \n",
    "            Psiim2[i+1] = h**2*dt*(Psire1[i] - 2*Psire1[i+1] + Psire1[i+2])/(dx**2*2*m) - V[i+1]*dt*Psire1[i+1]/h\n",
    "            Psiim2[i+1] = Psiim2[i+1] - Psiim1[i+1]   \n",
    "        \n",
    "        chrono += dt\n",
    "    \n",
    "        P = Psire1\n",
    "        for i in range(N) : \n",
    "            P[i] = Psire1[i]**2 + Psiim1[i]**2\n",
    "\n",
    "        Psq = 0\n",
    "        j = 0\n",
    "        while j < N-2: \n",
    "            sqdown = Psire2[j]**2 + Psiim2[j]**2\n",
    "            sq = Psire2[j+1]**2 + Psiim2[j+1]**2\n",
    "            squp = Psire2[j+2]**2 + Psiim2[j+2]**2\n",
    "\n",
    "            Psq += dx*(sqdown + 4*sq + squp)/6\n",
    "            j += 2\n",
    "\n",
    "        Psiim1 = np.copy(Psiim2)/np.sqrt(Psq)\n",
    "        Psire1 = np.copy(Psire2)/np.sqrt(Psq) \n",
    "        \n",
    "    return P\n",
    "\n",
    "def Vosc(dx,m,omega,N) :\n",
    "    V = np.zeros(N)\n",
    "    for i in range(N) : \n",
    "        V[i] = 0.5*m*(omega*(i*dx - L/2))**2\n",
    "        \n",
    "    return V\n",
    "\n",
    "V = Vosc(dx,m,omega,N)\n",
    "P = schro(V,T,Z,Psi0,m,dt,dx)\n",
    "\n",
    "plt.plot(X, P, label=\"$|\\Psi|^2$ (en unité $\\hbar$)\")\n",
    "plt.xlabel(\"X\")\n",
    "plt.ylabel(\"$|\\Psi|^2$ (en unité $\\hbar$)\")\n",
    "plt.title(\"Plot de la fonction Psi\")\n",
    "plt.legend()\n",
    "plt.show()"
   ]
  },
  {
   "cell_type": "markdown",
   "id": "c6c02fd3",
   "metadata": {},
   "source": [
    "Remarquons que la condition V a tendance à creser le milieu. De plus avec la coupure entre le 1 et le 0 de la condition initiale. Nous passons d'une probabilité uniforme à ce que l'on voit ici."
   ]
  },
  {
   "cell_type": "markdown",
   "id": "c717adc7",
   "metadata": {},
   "source": [
    "### 6. Calcul de la dispersion \n",
    "\n",
    "Nous avons notre fonction d'onde (nous utiliserons P). Nous pouvons utiliser la formule : \n",
    "$$\n",
    "\\langle x \\rangle = \\int_\\Omega \\Psi \\hat{x} \\Psi^* dx\n",
    "$$\n",
    "\n",
    "Comme $\\hat{x} = x$ et n'a pas d'effet sur $\\Psi^*$, nous pouvons écrir : \n",
    "$$\n",
    "\\langle x \\rangle = \\int_\\Omega x|\\Psi|^2 dx\n",
    "$$\n",
    "\n",
    "De même pour $x^2$ :\n",
    "$$\n",
    "\\langle x^2 \\rangle = \\int_\\Omega x^2|\\Psi|^2 dx\n",
    "$$\n",
    "\n",
    "Nous pouvons par la suite calculer la dispersion : \n",
    "$$\n",
    "\\Delta x = \\sqrt{\\langle x^2 \\rangle - \\langle x \\rangle^2}\n",
    "$$\n",
    "\n",
    "Nous continuerons d'utiliser la formule de sympson"
   ]
  },
  {
   "cell_type": "code",
   "execution_count": null,
   "id": "a2174ece",
   "metadata": {},
   "outputs": [],
   "source": [
    "def calcx (P,L) : \n",
    "    N = len(P)\n",
    "    dx = L/N\n",
    "    j = 0\n",
    "    Psq = 0\n",
    "    while j < N-2: \n",
    "        sqdown = P[j]*dx*j\n",
    "        sq = P[j+1]*dx*(j+1)\n",
    "        squp = P[j+2]*dx*(j+2)\n",
    "\n",
    "        Psq += dx*(sqdown + 4*sq + squp)/6\n",
    "        j += 2\n",
    "    \n",
    "    return Psq\n",
    "\n",
    "def calcxsq (P,L) : \n",
    "    N = len(P)\n",
    "    dx = L/N\n",
    "    j = 0\n",
    "    Psq = 0\n",
    "    while j < N-2: \n",
    "        sqdown = P[j]*(dx*j)**2\n",
    "        sq = P[j+1]*(dx*(j+1))**2\n",
    "        squp = P[j+2]*(dx*(j+2))**2\n",
    "\n",
    "        Psq += dx*(sqdown + 4*sq + squp)/6\n",
    "        j += 2\n",
    "    \n",
    "    return Psq\n",
    "\n",
    "x = calcx (P,L)\n",
    "xsq = calcxsq (P,L)\n",
    "\n",
    "Var = xsq - x**2\n",
    "sig = np.sqrt(Var)\n",
    "\n",
    "sig"
   ]
  },
  {
   "cell_type": "markdown",
   "id": "a7acd834",
   "metadata": {},
   "source": [
    "### 7. Le point critique de Van der Waals\n",
    "\n",
    "On connait l'équation de Van der Waals $P(T,V_n) = \\frac{RT}{V_n - b} - \\frac{a}{V_n^2}$ et nous savons que le point critique a pour particularité $\\frac{dP}{dT} = \\frac{dP}{dV_n} = 0$. Donc nous allons faire, après avoir quadrié notre fonction qui sera représenté par une matrice (T,V). Nous pouvons construire 2 matrices $\\frac{dP}{dT}$ et $\\frac{dP}{dV_n}$ et les multiplier entre elles pour trouver le point le plus petit. Nous allons tester cette technique avec l'eau, a = 5.537 et b = 0.03049"
   ]
  },
  {
   "cell_type": "code",
   "execution_count": null,
   "id": "e72a7069",
   "metadata": {},
   "outputs": [],
   "source": [
    "dV = 0.0001\n",
    "Vm = 0.1\n",
    "dT = 0.01\n",
    "Tm = 10\n",
    "a = 5.53\n",
    "b = 0.03049\n",
    "\n",
    "max_pressure= 1000\n",
    "\n",
    "def VanDerWaals(dV, Vm, dT, Tm, a, b,max_pressure):\n",
    "    R = 8.3145\n",
    "    V_points = int(Vm/dV)\n",
    "    T_points = int(Tm/dT)\n",
    "    \n",
    "    P = np.zeros((T_points, V_points))\n",
    "    \n",
    "    for i in range(T_points):\n",
    "        for j in range(V_points):\n",
    "            V = (j+1)*dV\n",
    "            T = (i+1)*dT\n",
    "            p = R*T/(V-b) - a/V**2\n",
    "            \n",
    "            if p < 0 : \n",
    "                P[i,j] = max(p,-max_pressure)\n",
    "                \n",
    "            if p > 0 :\n",
    "                P[i,j] = min(p,max_pressure)\n",
    "    \n",
    "    return P\n",
    "\n",
    "P = VanDerWaals(dV, Vm, dT, Tm, a, b,max_pressure)\n",
    "\n",
    "\n",
    "V_values = np.linspace(dV, Vm, int(Vm / dV))\n",
    "T_values = np.linspace(dT, Tm, int(Tm / dT))\n",
    "\n",
    "\n",
    "plt.figure(figsize=(8, 6))\n",
    "plt.pcolormesh(V_values, T_values, P, shading='auto', cmap='coolwarm')\n",
    "plt.colorbar(label='Pressure (Pa)')\n",
    "plt.xlabel(\"Volume (m³)\")\n",
    "plt.ylabel(\"Temperature (K)\")\n",
    "plt.title(\"Van der Waals Pressure Distribution\")\n",
    "plt.show()"
   ]
  },
  {
   "cell_type": "code",
   "execution_count": null,
   "id": "4629b044",
   "metadata": {
    "scrolled": false
   },
   "outputs": [],
   "source": [
    "V_points = int(Vm/dV)\n",
    "T_points = int(Tm/dT)\n",
    "PartialV = np.zeros((T_points, V_points))\n",
    "PartialT = np.zeros((T_points, V_points))\n",
    "\n",
    "\n",
    "for i in range(int(Tm/dT) - 1) :\n",
    "    for j in range(int(Vm/dV) - 1) :\n",
    "        pv = (P[i,j+1] - P[i,j])/dV\n",
    "        pt = (P[i+1,j] - P[i,j])/dT\n",
    "        \n",
    "        if pv < 0 : \n",
    "            PartialV[i,j] = max(pv,-max_pressure)\n",
    "                \n",
    "        if pv > 0 :\n",
    "            PartialV[i,j] = min(pv,max_pressure)\n",
    "            \n",
    "        if pt < 0 : \n",
    "            PartialT[i,j] = max(pt,-max_pressure)\n",
    "                \n",
    "        if pt > 0 :\n",
    "            PartialT[i,j] = min(pt,max_pressure)\n",
    "        \n",
    "        if P[i,j] == max_pressure :\n",
    "            PartialV[i,j] = max_pressure\n",
    "            PartialT[i,j] = max_pressure\n",
    "            \n",
    "        if P[i,j] == -max_pressure :\n",
    "            PartialV[i,j] = -max_pressure\n",
    "            PartialT[i,j] = -max_pressure\n",
    "\n",
    "            \n",
    "V_values = np.linspace(dV, Vm, int(Vm / dV))\n",
    "T_values = np.linspace(dT, Tm, int(Tm / dT))\n",
    "\n",
    "fig, axes = plt.subplots(1, 2, figsize=(12, 6))\n",
    "\n",
    "c1 = axes[0].pcolormesh(V_values, T_values, PartialV, shading='auto', cmap='coolwarm')\n",
    "fig.colorbar(c1, ax=axes[0], label='dP/dV')\n",
    "axes[0].set_xlabel(\"Volume (m³)\")\n",
    "axes[0].set_ylabel(\"Temperature (K)\")\n",
    "axes[0].set_title(\"dP/dV\")\n",
    "\n",
    "c2 = axes[1].pcolormesh(V_values, T_values, PartialT, shading='auto', cmap='coolwarm')\n",
    "fig.colorbar(c2, ax=axes[1], label='dP/dT')\n",
    "axes[1].set_xlabel(\"Volume (m³)\")\n",
    "axes[1].set_ylabel(\"Temperature (K)\")\n",
    "axes[1].set_title(\"dP/dT\")\n",
    "\n",
    "plt.tight_layout()\n",
    "plt.show()"
   ]
  },
  {
   "cell_type": "code",
   "execution_count": null,
   "id": "88983a5e",
   "metadata": {},
   "outputs": [],
   "source": [
    "crit = np.zeros((T_points, V_points))\n",
    "Ptn_crit = (0,0)\n",
    "P_critsq = max_pressure**2\n",
    "\n",
    "for i in range(int(Tm/dT) - 1) :\n",
    "    for j in range(int(Vm/dV) - 1) :\n",
    "        crit[i,j] = np.abs(PartialV[i,j]*PartialT[i,j])\n",
    "        \n",
    "        if P[i,j] == max_pressure :\n",
    "            crit[i,j] = max_pressure**2\n",
    "            \n",
    "        if P[i,j] == -max_pressure :\n",
    "            crit[i,j] = max_pressure**2\n",
    "\n",
    "for i in range(int(Tm/dT) - 2) :\n",
    "    for j in range(int(Vm/dV) - 2) :\n",
    "        if (crit[-i,-j] < P_critsq) and (crit[i,j] < crit[i-1,j]) and (crit[i,j] < crit[i+1,j]) and (crit[i,j] < crit[i,j+1]) and (crit[i,j] < crit[i,j-1]):\n",
    "            Ptn_crit = (Tm - dT*i,Vm - dV*j)\n",
    "            P_critsq = crit[-i,-j]\n",
    "        \n",
    "\n",
    "        \n",
    "        \n",
    "plt.figure(figsize=(8, 6))\n",
    "plt.pcolormesh(V_values, T_values, crit, shading='auto', cmap='coolwarm')\n",
    "plt.colorbar(label='$dP^2$')\n",
    "plt.xlabel(\"Volume (m³)\")\n",
    "plt.ylabel(\"Temperature (K)\")\n",
    "plt.title(\"Van der Waals Critical point\")\n",
    "plt.show()\n",
    "\n",
    "Ptn_crit"
   ]
  },
  {
   "cell_type": "markdown",
   "id": "fa262c6b",
   "metadata": {},
   "source": [
    "Les vraies valeurs sont 6.47 et 0.09147. Le problème ici est la recherche de minimum, nous avons ici à faire à une crevasse uniformément égale à un petit nombre. La discrétisation imparfaire ne nous permet pas de tomber sur le point exact. Cependant nous trouvons le point sur le graph. Le graph est donc bon."
   ]
  },
  {
   "cell_type": "markdown",
   "id": "d6e26403",
   "metadata": {},
   "source": [
    "## Utilisation de Panda.\n",
    "\n",
    "Nous allons tout d'abord utiliser un example de stack overflof pour le paramétrage"
   ]
  },
  {
   "cell_type": "code",
   "execution_count": 18,
   "id": "232d6838",
   "metadata": {},
   "outputs": [],
   "source": [
    "import pandas as pd"
   ]
  },
  {
   "cell_type": "code",
   "execution_count": 19,
   "id": "7375a2b7",
   "metadata": {},
   "outputs": [],
   "source": [
    "df = pd.read_csv('survey_results_public.csv')"
   ]
  },
  {
   "cell_type": "code",
   "execution_count": null,
   "id": "b6afd60d",
   "metadata": {},
   "outputs": [],
   "source": [
    "pd.set_option('display.max_columns',10)\n",
    "pd.set_option('display.max_rows',10)\n",
    "df"
   ]
  },
  {
   "cell_type": "code",
   "execution_count": null,
   "id": "afdccdd7",
   "metadata": {},
   "outputs": [],
   "source": [
    "df.shape"
   ]
  },
  {
   "cell_type": "code",
   "execution_count": null,
   "id": "4621e389",
   "metadata": {},
   "outputs": [],
   "source": [
    "df.info"
   ]
  },
  {
   "cell_type": "markdown",
   "id": "4f60ed4f",
   "metadata": {},
   "source": [
    "Puis un example inventé de toutes pièces, voyons comment montrer les données :"
   ]
  },
  {
   "cell_type": "code",
   "execution_count": null,
   "id": "15618d19",
   "metadata": {},
   "outputs": [],
   "source": [
    "tmp = pd.read_csv('temp.csv',sep=';')\n",
    "tmp"
   ]
  },
  {
   "cell_type": "code",
   "execution_count": null,
   "id": "0029ce40",
   "metadata": {},
   "outputs": [],
   "source": [
    "plt.plot(tmp['Time '], tmp['Temp Zone 1'], marker='o', linestyle='-', label='Temp Zone 1')\n",
    "plt.plot(tmp['Time '], tmp['Temp Zone 2'], marker='o', linestyle='-', label='Temp Zone 2')\n",
    "plt.plot(tmp['Time '], tmp['Temp Zone 3'], marker='o', linestyle='-', label='Temp Zone 3')\n",
    "\n",
    "plt.xlabel('Time')\n",
    "plt.ylabel('Temperature')\n",
    "plt.title('Temperature Over Time')\n",
    "\n",
    "plt.legend()\n",
    "plt.grid(True)\n",
    "plt.show()"
   ]
  },
  {
   "cell_type": "code",
   "execution_count": null,
   "id": "5ce6e6b7",
   "metadata": {},
   "outputs": [],
   "source": [
    "tmp.describe()"
   ]
  },
  {
   "cell_type": "code",
   "execution_count": null,
   "id": "bc77859c",
   "metadata": {},
   "outputs": [],
   "source": [
    "tmp.min()"
   ]
  },
  {
   "cell_type": "code",
   "execution_count": null,
   "id": "1deba1c2",
   "metadata": {},
   "outputs": [],
   "source": [
    "tmp[12:15]"
   ]
  },
  {
   "cell_type": "code",
   "execution_count": null,
   "id": "afab0097",
   "metadata": {},
   "outputs": [],
   "source": [
    "tmp.loc[12:15,['Temp Zone 1','Temp Zone 2']]"
   ]
  },
  {
   "cell_type": "code",
   "execution_count": null,
   "id": "e6724506",
   "metadata": {},
   "outputs": [],
   "source": [
    "tmp.iloc[12:15,[1,2]]"
   ]
  },
  {
   "cell_type": "markdown",
   "id": "06ab981d",
   "metadata": {},
   "source": [
    "Maintenant que nous avons vu tous ça, nous pouvons couper certaines données et faire le tri et filtrer :"
   ]
  },
  {
   "cell_type": "code",
   "execution_count": null,
   "id": "bcd37563",
   "metadata": {},
   "outputs": [],
   "source": [
    "tmp[tmp['Temp Zone 3'] < 0]"
   ]
  },
  {
   "cell_type": "markdown",
   "id": "1495fc86",
   "metadata": {},
   "source": [
    "Et enfin rajouter de nouvelles colonnes et lignes"
   ]
  },
  {
   "cell_type": "code",
   "execution_count": null,
   "id": "c8a26e3e",
   "metadata": {},
   "outputs": [],
   "source": [
    "tmp[\"meanTemp\"] = (tmp[\"Temp Zone 1\"] + tmp[\"Temp Zone 2\"] + tmp[\"Temp Zone 2\"])/3\n",
    "plt.plot(tmp['Time '], tmp[\"meanTemp\"], marker='o', linestyle='-')\n",
    "\n",
    "plt.xlabel('Time')\n",
    "plt.ylabel('Temperature')\n",
    "plt.title('Temperature Over Time')\n",
    "\n",
    "plt.grid(True)\n",
    "plt.show()"
   ]
  },
  {
   "cell_type": "markdown",
   "id": "924b6e2b",
   "metadata": {},
   "source": [
    "nous pouvons aussi renomer des collones :"
   ]
  },
  {
   "cell_type": "code",
   "execution_count": null,
   "id": "e4b0848d",
   "metadata": {},
   "outputs": [],
   "source": [
    "tmp.columns = [\"Time\",\"Temp_Zone_1\",\"Temp_Zone_2\",\"Temp_Zone_3\",\"Pression_Zone_1\",\"Pression_Zone_2\",\"Pression_Zone_3\",\"Mean_Temp\"]\n",
    "tmp.columns"
   ]
  },
  {
   "cell_type": "markdown",
   "id": "b156d7b3",
   "metadata": {},
   "source": []
  },
  {
   "cell_type": "code",
   "execution_count": null,
   "id": "cdb527f0",
   "metadata": {},
   "outputs": [],
   "source": []
  }
 ],
 "metadata": {
  "kernelspec": {
   "display_name": "Python 3 (ipykernel)",
   "language": "python",
   "name": "python3"
  },
  "language_info": {
   "codemirror_mode": {
    "name": "ipython",
    "version": 3
   },
   "file_extension": ".py",
   "mimetype": "text/x-python",
   "name": "python",
   "nbconvert_exporter": "python",
   "pygments_lexer": "ipython3",
   "version": "3.10.9"
  }
 },
 "nbformat": 4,
 "nbformat_minor": 5
}
